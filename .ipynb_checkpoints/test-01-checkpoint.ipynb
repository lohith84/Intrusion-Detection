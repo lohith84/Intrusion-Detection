{
 "cells": [
  {
   "cell_type": "code",
   "execution_count": 11,
   "id": "177dc27b-be7b-44e3-b719-e5173a93cd86",
   "metadata": {},
   "outputs": [],
   "source": [
    "!pip install -r requirements.txt -q"
   ]
  },
  {
   "cell_type": "code",
   "execution_count": 12,
   "id": "dbb5ef28-309c-4447-8dbc-bd5eb2300fab",
   "metadata": {},
   "outputs": [],
   "source": [
    "\n",
    "!pip install ultralytics -q\n",
    "!pip install gradio -q\n",
    "!pip install pandas -q\n",
    "!pip install deepface -q"
   ]
  },
  {
   "cell_type": "code",
   "execution_count": 3,
   "id": "67268226-bac1-464c-87e2-c5e1fda044e9",
   "metadata": {},
   "outputs": [],
   "source": [
    "# Import necessary libraries\n",
    "from ultralytics import YOLO\n",
    "from ultralytics.engine.results import Results  \n",
    "from deepface import DeepFace\n",
    "from PIL import Image\n",
    "import gradio as gr\n",
    "import shutil\n",
    "import pandas\n",
    "import cv2\n",
    "import os"
   ]
  },
  {
   "cell_type": "code",
   "execution_count": 4,
   "id": "e2c62a9d-8112-49b7-9b8d-43f9e10673c2",
   "metadata": {},
   "outputs": [],
   "source": [
    "import os\n",
    "from deepface import DeepFace\n",
    "\n",
    "def faceRecognition(input_image):\n",
    "\n",
    "    # Path to the directory containing cropped objects\n",
    "    cropped_objects_dir = \"./faces/\"\n",
    "\n",
    "    # Initialize a list to store the extracted characters\n",
    "    extracted_chars = []\n",
    "    file_to_delete = \"./database/ds_facenet512_opencv_v2.pkl\"\n",
    "    if os.path.exists(file_to_delete):\n",
    "       os.remove(file_to_delete)  \n",
    "\n",
    "   \n",
    "\n",
    "    # Iterate through the image files in the directory\n",
    "    for filename in os.listdir(cropped_objects_dir):\n",
    "        if filename.endswith(\".jpg\"):\n",
    "            img_path = os.path.join(cropped_objects_dir, filename)\n",
    "            model = DeepFace.find(img_path=img_path, db_path=\"database\", enforce_detection=False, model_name=\"Facenet512\")\n",
    "            print(\"Processing:\", filename)\n",
    "            print(\"Model:\", model)\n",
    "            # Check if a face was recognized in the image\n",
    "            if model and len(model) > 0 and 'identity' in model[0] and len(model[0]['identity']) > 0:\n",
    "                # Extract the first character of the filename and append it to the list\n",
    "                import pandas as pd\n",
    "\n",
    "                # Example Series object\n",
    "                k=model[0]['identity']\n",
    "                stt=str(k)\n",
    "                model = pd.Series([stt])\n",
    "                \n",
    "                # Accessing the string value within the Series\n",
    "                path = model[0]\n",
    "                \n",
    "                # Extracting the filename from the path using .str accessor\n",
    "                filename = path.split(\"\\\\\")[-1]\n",
    "                \n",
    "                # Getting the first character of the filename\n",
    "                name = filename[0]\n",
    "                \n",
    "\n",
    "            else:\n",
    "                # If no face is recognized, set name to 'unknown'\n",
    "                name = 'u'  # 'u' for 'unknown'\n",
    "\n",
    "            extracted_chars.append(name)\n",
    "\n",
    "    return extracted_chars\n",
    "\n"
   ]
  },
  {
   "cell_type": "code",
   "execution_count": 5,
   "id": "f61dff16-32e7-42fc-b312-4d5cb175628d",
   "metadata": {},
   "outputs": [],
   "source": [
    "def faceExtraction(input_image, model, results):\n",
    "    # Load the image\n",
    "    image = Image.open(input_image)\n",
    "    detected_objects = []\n",
    "\n",
    "    if hasattr(results, 'boxes') and hasattr(results, 'names'):\n",
    "        for box in results.boxes.xyxy:\n",
    "            object_id = int(box[-1])\n",
    "            object_name = results.names.get(object_id)\n",
    "            x1, y1, x2, y2 = int(box[0]), int(box[1]), int(box[2]), int(box[3])\n",
    "\n",
    "            detected_objects.append((object_name, (x1, y1, x2, y2)))\n",
    "\n",
    "    # Create or clear the 'faces' directory\n",
    "    if os.path.exists(\"faces\"):\n",
    "        shutil.rmtree(\"faces\")\n",
    "    os.makedirs(\"faces\")\n",
    "\n",
    "    # Crop and save each detected object\n",
    "    for i, (object_name, (x1, y1, x2, y2)) in enumerate(detected_objects):\n",
    "        object_image = image.crop((x1, y1, x2, y2))\n",
    "        object_image.save(f\"faces/face{i}.jpg\")\n",
    "        \n",
    "    return 0"
   ]
  },
  {
   "cell_type": "code",
   "execution_count": 6,
   "id": "05b301be-5c7c-46d8-b23e-0c7686cf9e17",
   "metadata": {},
   "outputs": [],
   "source": [
    "def faceDetection(input_image):\n",
    "    model = YOLO('best.pt')\n",
    "    results: Results = model.predict(input_image)[0]\n",
    "\n",
    "    return faceExtraction(input_image, model, results)"
   ]
  },
  {
   "cell_type": "code",
   "execution_count": null,
   "id": "062e3b20-c871-4df7-a539-6248c405fc79",
   "metadata": {},
   "outputs": [],
   "source": [
    "image = input(\"enter image path : \")\n",
    "faceDetection(image)\n",
    "names = faceRecognition(image)\n",
    "print(names)"
   ]
  },
  {
   "cell_type": "code",
   "execution_count": null,
   "id": "257ead09-962c-4fe7-8dda-63fe5cc4d10a",
   "metadata": {},
   "outputs": [],
   "source": []
  }
 ],
 "metadata": {
  "kernelspec": {
   "display_name": "Python 3 (ipykernel)",
   "language": "python",
   "name": "python3"
  },
  "language_info": {
   "codemirror_mode": {
    "name": "ipython",
    "version": 3
   },
   "file_extension": ".py",
   "mimetype": "text/x-python",
   "name": "python",
   "nbconvert_exporter": "python",
   "pygments_lexer": "ipython3",
   "version": "3.11.5"
  }
 },
 "nbformat": 4,
 "nbformat_minor": 5
}
